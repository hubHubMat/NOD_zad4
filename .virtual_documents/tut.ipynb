


import matplotlib.pyplot as plt
import numpy as np





# Dane
x = [1, 2, 3, 4, 5]
y = [2, 3, 5, 7, 11]

# Tworzenie wykresu
plt.plot(x, y, marker='o', linestyle='-', color='b', label="Liniowy")
plt.xlabel("Oś X")
plt.ylabel("Oś Y")
plt.title("Wykres Liniowy")
plt.legend()
plt.show()





# Dane
kategorie = ['A', 'B', 'C', 'D']
wartosci = [5, 7, 3, 8]

# Tworzenie wykresu słupkowego
plt.bar(kategorie, wartosci, color='orange')
plt.xlabel("Kategorie")
plt.ylabel("Wartości")
plt.title("Wykres Słupkowy")
plt.show()





# Dane
dane = np.random.normal(0, 1, 1000)

# Tworzenie histogramu
plt.hist(dane, bins=30, color='purple', alpha=0.7)
plt.xlabel("Wartości")
plt.ylabel("Częstotliwość")
plt.title("Histogram")
plt.show()





# Dane
kategorie = ['A', 'B', 'C', 'D']
wartosci = [15, 30, 45, 10]

# Tworzenie wykresu kołowego
plt.pie(wartosci, labels=kategorie, autopct='%1.1f%%', startangle=90)
plt.title("Wykres Kołowy")
plt.show()





x = [1, 2, 3, 4, 5]
y = [10, 20, 25, 30, 35]

plt.plot(x, y, color='green', marker='x', linestyle='--', linewidth=2)
plt.xlabel("X")
plt.ylabel("Y")
plt.title("Dostosowany Wykres Liniowy")
plt.show()





plt.plot(x, y, color='blue', marker='o')
plt.grid(True)
plt.xlabel("X")
plt.ylabel("Y")
plt.title("Wykres z Siatką")
plt.show()





plt.plot(x, y, marker='o')
plt.annotate('Najwyższy punkt', xy=(5, 35), xytext=(3, 30),
             arrowprops=dict(facecolor='black', arrowstyle='->'))
plt.title("Wykres z Adnotacją")
plt.show()





x = np.random.rand(50)
y = np.random.rand(50)
sizes = 1000 * np.random.rand(50)
colors = np.random.rand(50)

plt.scatter(x, y, s=sizes, c=colors, alpha=0.5, cmap='viridis')
plt.colorbar()
plt.xlabel("X")
plt.ylabel("Y")
plt.title("Wykres Punktowy")
plt.show()





from mpl_toolkits.mplot3d import Axes3D

fig = plt.figure()
ax = fig.add_subplot(111, projection='3d')

x = np.linspace(-5, 5, 100)
y = np.linspace(-5, 5, 100)
X, Y = np.meshgrid(x, y)
Z = np.sin(np.sqrt(X**2 + Y**2))

ax.plot_surface(X, Y, Z, cmap='plasma')
plt.title("Wykres 3D")
plt.show()





import plotly.express as px

# Dane
x = [1, 2, 3, 4, 5]
y = [10, 15, 13, 17, 10]

# Tworzenie wykresu
fig = px.line(x=x, y=y, title="Wykres Liniowy", labels={'x':"Oś X", 'y':"Oś Y"})
fig.show()


# Dane
kategorie = ['A', 'B', 'C', 'D']
wartosci = [4, 7, 1, 8]

# Tworzenie wykresu słupkowego
fig = px.bar(x=kategorie, y=wartosci, title="Wykres Słupkowy", labels={'x':"Kategorie", 'y':"Wartości"})
fig.show()


# Dane
kategorie = ['A', 'B', 'C', 'D']
wartosci = [15, 30, 45, 10]

# Tworzenie wykresu kołowego
fig = px.pie(names=kategorie, values=wartosci, title="Wykres Kołowy")
fig.show()


import numpy as np

# Dane
dane = np.random.normal(0, 1, 1000)

# Tworzenie histogramu
fig = px.histogram(x=dane, nbins=30, title="Histogram", labels={'x':"Wartości", 'y':"Częstotliwość"})
fig.show()





fig = px.line(x=x, y=y, title="Wykres Liniowy z Dostosowanymi Kolorami")
fig.update_traces(line=dict(color="purple", width=4))
fig.show()





fig = px.line(x=x, y=y, title="Wykres z Adnotacjami")
fig.add_annotation(x=3, y=13, text="Wyróżniony Punkt", showarrow=True, arrowhead=1)
fig.show()


# Dane
x = np.random.rand(50)
y = np.random.rand(50)
sizes = 1000 * np.random.rand(50)
colors = np.random.rand(50)

fig = px.scatter(x=x, y=y, size=sizes, color=colors, title="Wykres Punktowy")
fig.show()


import plotly.graph_objects as go

# Dane
x = np.linspace(-5, 5, 100)
y = np.linspace(-5, 5, 100)
X, Y = np.meshgrid(x, y)
Z = np.sin(np.sqrt(X**2 + Y**2))

# Tworzenie wykresu 3D
fig = go.Figure(data=[go.Surface(z=Z, x=X, y=Y)])
fig.update_layout(title="Wykres 3D", scene=dict(
                    xaxis_title='X',
                    yaxis_title='Y',
                    zaxis_title='Z'))
fig.show()





from plotly.subplots import make_subplots

# Dane
x = [1, 2, 3, 4, 5]
y1 = [10, 15, 13, 17, 10]
y2 = [5, 6, 2, 3, 8]

# Tworzenie subplotów
fig = make_subplots(rows=1, cols=2, subplot_titles=("Wykres 1", "Wykres 2"))
fig.add_trace(go.Scatter(x=x, y=y1, mode='lines+markers', name="Liniowy 1"), row=1, col=1)
fig.add_trace(go.Scatter(x=x, y=y2, mode='lines+markers', name="Liniowy 2"), row=1, col=2)
fig.update_layout(title="Subploty w Plotly")
fig.show()





#! pip install plotnine


from plotnine import *
import pandas as pd

# Przykładowe dane
data = pd.DataFrame({
    'x': [1, 2, 3, 4, 5],
    'y': [2, 4, 6, 8, 10]
})


# Tworzenie podstawowego wykresu
(ggplot(data) + aes(x='x', y='y') + geom_point())


# Wykres punktowy
(ggplot(data) + aes(x='x', y='y') + geom_point() +
 ggtitle("Wykres Punktowy") +
 xlab("Oś X") + ylab("Oś Y"))


# Wykres liniowy
(ggplot(data) + aes(x='x', y='y') + geom_line(color='blue') +
 ggtitle("Wykres Liniowy") +
 xlab("Oś X") + ylab("Oś Y"))


# Dane do wykresu słupkowego
data_bar = pd.DataFrame({
    'kategorie': ['A', 'B', 'C', 'D'],
    'wartości': [4, 7, 1, 8]
})

# Wykres słupkowy
(ggplot(data_bar) + aes(x='kategorie', y='wartości') +
 geom_bar(stat='identity', fill='skyblue') +
 ggtitle("Wykres Słupkowy") +
 xlab("Kategorie") + ylab("Wartości"))


import numpy as np

# Dane
data_hist = pd.DataFrame({
    'wartości': np.random.normal(0, 1, 1000)
})

# Histogram
(ggplot(data_hist) + aes(x='wartości') +
 geom_histogram(bins=30, fill='purple', alpha=0.7) +
 ggtitle("Histogram") +
 xlab("Wartości") + ylab("Częstotliwość"))


# Wykres punktowy z dostosowanymi kolorami
(ggplot(data) + aes(x='x', y='y') +
 geom_point(color='red', size=3) +
 ggtitle("Wykres Punktowy z Dostosowanymi Kolorami") +
 xlab("Oś X") + ylab("Oś Y"))


# Wykres punktowy z linią trendu
(ggplot(data) + aes(x='x', y='y') +
 geom_point() + geom_smooth(method='lm') +
 ggtitle("Wykres z Linią Trendu") +
 xlab("Oś X") + ylab("Oś Y"))


# Przykładowe dane
data_facet = pd.DataFrame({
    'x': np.tile([1, 2, 3, 4], 2),
    'y': [1, 2, 3, 4, 2, 3, 4, 5],
    'grupa': ['A']*4 + ['B']*4
})

# Wykres z facetowaniem
(ggplot(data_facet) + aes(x='x', y='y') +
 geom_point() + facet_wrap('~grupa') +
 ggtitle("Wykres z Facetowaniem") +
 xlab("Oś X") + ylab("Oś Y"))


# Przykładowe dane
data_box = pd.DataFrame({
    'kategorie': np.random.choice(['A', 'B', 'C'], 100),
    'wartości': np.random.randn(100)
})

# Wykres pudłowy
(ggplot(data_box) + aes(x='kategorie', y='wartości') +
 geom_boxplot(fill='lightblue') +
 ggtitle("Wykres Pudłowy") +
 xlab("Kategorie") + ylab("Wartości"))


# Dodanie motywu
(ggplot(data) + aes(x='x', y='y') + geom_point() +
 ggtitle("Wykres z Motywem") +
 theme_minimal())





import plotly.express as px
import pandas as pd

# Przykładowe dane miast z ich współrzędnymi
data = pd.DataFrame({
    'city': ['New York', 'London', 'Tokyo', 'Sydney'],
    'latitude': [40.7128, 51.5074, 35.6895, -33.8688],
    'longitude': [-74.0060, -0.1278, 139.6917, 151.2093]
})

# Tworzenie mapy punktowej
fig = px.scatter_mapbox(data, lat="latitude", lon="longitude", hover_name="city",
                        zoom=1, height=500)

# Konfiguracja stylu mapy
fig.update_layout(mapbox_style="open-street-map")
fig.update_layout(title="Lokalizacja Wybranych Miast na Mapie")
fig.show()


import plotly.express as px

# Dane krajów z ich kodami ISO oraz populacją
data = px.data.gapminder().query("year == 2007")

# Tworzenie mapy choropleth
fig = px.choropleth(data, locations="iso_alpha", color="pop",
                    hover_name="country", color_continuous_scale="Viridis",
                    labels={'pop': 'Populacja'})

# Ustawienia mapy
fig.update_layout(title="Populacja Krajów na Świecie w 2007 roku")
fig.show()


import plotly.graph_objects as go

# Przykładowe dane z losowymi współrzędnymi
import numpy as np
np.random.seed(0)
lats = np.random.normal(37.7749, 0.5, 100) # Średnia szerokość geogr.
lons = np.random.normal(-122.4194, 0.5, 100) # Średnia długość geogr.

# Tworzenie mapy cieplnej
fig = go.Figure(go.Densitymapbox(lat=lats, lon=lons, radius=10))

# Ustawienia stylu mapy
fig.update_layout(mapbox_style="stamen-terrain", mapbox_center_lon=-122.4194,
                  mapbox_center_lat=37.7749, mapbox_zoom=10)
fig.update_layout(title="Mapa Cieplna Przedstawiająca Gęstość Punktów")
fig.show()


import plotly.express as px

# Dane stanów USA z populacją
data = px.data.gapminder().query("year == 20017 & continent == 'Americas'")
data = data[data['country'] != 'Canada']  # Usunięcie Kanady, jeśli potrzebne

# Tworzenie mapy choropleth dla stanów USA
fig = px.choropleth(data, locations="iso_alpha", color="pop",
                    hover_name="country", locationmode="USA-states",
                    color_continuous_scale="Viridis", labels={'pop': 'Populacja'})

# Ustawienia mapy
fig.update_layout(title="Populacja Stanów USA", geo_scope='usa')
fig.show()
